{
 "cells": [
  {
   "cell_type": "markdown",
   "metadata": {},
   "source": [
    "## Exericicos 11 \n",
    "#### Taina Gomes - 817119056 "
   ]
  },
  {
   "cell_type": "markdown",
   "metadata": {},
   "source": [
    " #### 1 - Defina a função soma_nat que recebe como argumento um número natural n e devolve a soma de todos os números naturais até n."
   ]
  },
  {
   "cell_type": "code",
   "execution_count": null,
   "metadata": {},
   "outputs": [],
   "source": [
    "def soma_nat(n):\n",
    "    n = int(input (\"Digite um numero: \"))   \n",
    "    resultado = 0\n",
    "    i = 1\n",
    "    if n>0 :\n",
    "        while i <=n:\n",
    "            resultado+=i\n",
    "            n+i\n",
    "            i +=1\n",
    "        return(f'A soma dos numeros é igual a {resultado}')\n",
    "    else: \n",
    "        return(\"O numero digitado é menor ou igual a zero!!! \")\n",
    "   \n",
    "   \n",
    "        \n",
    "\n",
    "print(soma_nat(n))  "
   ]
  },
  {
   "cell_type": "markdown",
   "metadata": {},
   "source": [
    "#### 2 - Defina a função div que recebe como argumentos dois números naturais m e n e devolve o resultado da divisão inteira de m por n. Neste exercício você não pode recorrer às operações aritméticas de multiplicação, divisão e resto da divisão inteira."
   ]
  },
  {
   "cell_type": "code",
   "execution_count": null,
   "metadata": {},
   "outputs": [],
   "source": [
    "def div (n,m):\n",
    "    resultado=1 \n",
    "    n = int (input(\"Digite o dividendo: \"))\n",
    "    m = int (input(\"Digite o divisor: \"))\n",
    "    resultado = n//m\n",
    "    \n",
    "    return(f'O valor da divisão inteira é igual a {resultado}')\n",
    "\n",
    "\n",
    "\n",
    "print(div(n,m))"
   ]
  },
  {
   "cell_type": "markdown",
   "metadata": {},
   "source": [
    "#### 3 - Defina a função prim_alg que recebe como argumento um número natural e devolve o primeiro algarismo (o mais significativo) na representação decimal de n.\n"
   ]
  },
  {
   "cell_type": "code",
   "execution_count": null,
   "metadata": {},
   "outputs": [],
   "source": [
    "def prim_alg (n):\n",
    "    n = input (\"Digite um número: \")\n",
    "    return (f'O primiero algarismo digitea é {n[0]}')\n",
    "\n",
    "print (prim_alg(n))"
   ]
  },
  {
   "cell_type": "markdown",
   "metadata": {},
   "source": [
    "#### 4 - Defina a função prod_lista que recebe como argumento uma lista de inteiros e devolve o produto dos seus elementos."
   ]
  },
  {
   "cell_type": "code",
   "execution_count": null,
   "metadata": {},
   "outputs": [],
   "source": [
    "def prod_lista (n):\n",
    "    a = int (input(\"Digite um numero para armazenar na lista:\"))\n",
    "    b = int (input(\"Digite um numero para armazenar na lista:\"))\n",
    "    c = int (input(\"Digite um numero para armazenar na lista:\"))\n",
    "    d = int (input(\"Digite um numero para armazenar na lista:\"))\n",
    "    e = int (input(\"Digite um numero para armazenar na lista:\"))\n",
    "    f = int (input(\"Digite um numero para armazenar na lista:\"))\n",
    "    \n",
    "    n = [a,b,c,d,e,f]\n",
    "    \n",
    "    produto = a*b*c*d*e*f\n",
    "    \n",
    "    print(n)\n",
    "    return(f'O produto da lista é {produto}')\n",
    "\n",
    "print (prod_lista(n))\n",
    "    \n",
    "   \n",
    "    "
   ]
  },
  {
   "cell_type": "markdown",
   "metadata": {},
   "source": [
    "#### 10 - Defina a função inverteLista que recebe como argumento uma lista w e devolve a mesma lista mas invertida."
   ]
  },
  {
   "cell_type": "code",
   "execution_count": null,
   "metadata": {},
   "outputs": [],
   "source": [
    "def inverter (n):\n",
    "    a = int (input(\"Digite um numero para armazenar na lista:\"))\n",
    "    b = int (input(\"Digite um numero para armazenar na lista:\"))\n",
    "    c = int (input(\"Digite um numero para armazenar na lista:\"))\n",
    "    d = int (input(\"Digite um numero para armazenar na lista:\"))\n",
    "    e = int (input(\"Digite um numero para armazenar na lista:\"))\n",
    "    f = int (input(\"Digite um numero para armazenar na lista:\"))\n",
    "    \n",
    "    n = [a,b,c,d,e,f]\n",
    "    print(n)\n",
    "    return n[::-1]\n",
    "\n",
    "print(inverter(n))\n",
    "    "
   ]
  },
  {
   "cell_type": "code",
   "execution_count": null,
   "metadata": {},
   "outputs": [],
   "source": []
  }
 ],
 "metadata": {
  "kernelspec": {
   "display_name": "Python 3",
   "language": "python",
   "name": "python3"
  },
  "language_info": {
   "codemirror_mode": {
    "name": "ipython",
    "version": 3
   },
   "file_extension": ".py",
   "mimetype": "text/x-python",
   "name": "python",
   "nbconvert_exporter": "python",
   "pygments_lexer": "ipython3",
   "version": "3.6.4"
  }
 },
 "nbformat": 4,
 "nbformat_minor": 2
}
